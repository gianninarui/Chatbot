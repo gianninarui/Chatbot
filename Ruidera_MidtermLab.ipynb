{
  "nbformat": 4,
  "nbformat_minor": 0,
  "metadata": {
    "colab": {
      "provenance": [],
      "authorship_tag": "ABX9TyNnah+tgXP5x+DUj8VVWE0X",
      "include_colab_link": true
    },
    "kernelspec": {
      "name": "python3",
      "display_name": "Python 3"
    },
    "language_info": {
      "name": "python"
    }
  },
  "cells": [
    {
      "cell_type": "markdown",
      "metadata": {
        "id": "view-in-github",
        "colab_type": "text"
      },
      "source": [
        "<a href=\"https://colab.research.google.com/github/gianninarui/Chatbot/blob/main/Ruidera_MidtermLab.ipynb\" target=\"_parent\"><img src=\"https://colab.research.google.com/assets/colab-badge.svg\" alt=\"Open In Colab\"/></a>"
      ]
    },
    {
      "cell_type": "code",
      "execution_count": 36,
      "metadata": {
        "colab": {
          "base_uri": "https://localhost:8080/"
        },
        "id": "C_7G7pPJFJVb",
        "outputId": "60380c13-bd7b-47bc-c4d3-76562155a1b6"
      },
      "outputs": [
        {
          "output_type": "stream",
          "name": "stdout",
          "text": [
            "Requirement already satisfied: transformers in /usr/local/lib/python3.10/dist-packages (4.44.2)\n",
            "Requirement already satisfied: torch in /usr/local/lib/python3.10/dist-packages (2.4.1+cu121)\n",
            "Requirement already satisfied: nltk in /usr/local/lib/python3.10/dist-packages (3.8.1)\n",
            "Requirement already satisfied: flask in /usr/local/lib/python3.10/dist-packages (2.2.5)\n",
            "Requirement already satisfied: filelock in /usr/local/lib/python3.10/dist-packages (from transformers) (3.16.1)\n",
            "Requirement already satisfied: huggingface-hub<1.0,>=0.23.2 in /usr/local/lib/python3.10/dist-packages (from transformers) (0.24.7)\n",
            "Requirement already satisfied: numpy>=1.17 in /usr/local/lib/python3.10/dist-packages (from transformers) (1.26.4)\n",
            "Requirement already satisfied: packaging>=20.0 in /usr/local/lib/python3.10/dist-packages (from transformers) (24.1)\n",
            "Requirement already satisfied: pyyaml>=5.1 in /usr/local/lib/python3.10/dist-packages (from transformers) (6.0.2)\n",
            "Requirement already satisfied: regex!=2019.12.17 in /usr/local/lib/python3.10/dist-packages (from transformers) (2024.9.11)\n",
            "Requirement already satisfied: requests in /usr/local/lib/python3.10/dist-packages (from transformers) (2.32.3)\n",
            "Requirement already satisfied: safetensors>=0.4.1 in /usr/local/lib/python3.10/dist-packages (from transformers) (0.4.5)\n",
            "Requirement already satisfied: tokenizers<0.20,>=0.19 in /usr/local/lib/python3.10/dist-packages (from transformers) (0.19.1)\n",
            "Requirement already satisfied: tqdm>=4.27 in /usr/local/lib/python3.10/dist-packages (from transformers) (4.66.5)\n",
            "Requirement already satisfied: typing-extensions>=4.8.0 in /usr/local/lib/python3.10/dist-packages (from torch) (4.12.2)\n",
            "Requirement already satisfied: sympy in /usr/local/lib/python3.10/dist-packages (from torch) (1.13.3)\n",
            "Requirement already satisfied: networkx in /usr/local/lib/python3.10/dist-packages (from torch) (3.3)\n",
            "Requirement already satisfied: jinja2 in /usr/local/lib/python3.10/dist-packages (from torch) (3.1.4)\n",
            "Requirement already satisfied: fsspec in /usr/local/lib/python3.10/dist-packages (from torch) (2024.6.1)\n",
            "Requirement already satisfied: click in /usr/local/lib/python3.10/dist-packages (from nltk) (8.1.7)\n",
            "Requirement already satisfied: joblib in /usr/local/lib/python3.10/dist-packages (from nltk) (1.4.2)\n",
            "Requirement already satisfied: Werkzeug>=2.2.2 in /usr/local/lib/python3.10/dist-packages (from flask) (3.0.4)\n",
            "Requirement already satisfied: itsdangerous>=2.0 in /usr/local/lib/python3.10/dist-packages (from flask) (2.2.0)\n",
            "Requirement already satisfied: MarkupSafe>=2.0 in /usr/local/lib/python3.10/dist-packages (from jinja2->torch) (2.1.5)\n",
            "Requirement already satisfied: charset-normalizer<4,>=2 in /usr/local/lib/python3.10/dist-packages (from requests->transformers) (3.3.2)\n",
            "Requirement already satisfied: idna<4,>=2.5 in /usr/local/lib/python3.10/dist-packages (from requests->transformers) (3.10)\n",
            "Requirement already satisfied: urllib3<3,>=1.21.1 in /usr/local/lib/python3.10/dist-packages (from requests->transformers) (2.2.3)\n",
            "Requirement already satisfied: certifi>=2017.4.17 in /usr/local/lib/python3.10/dist-packages (from requests->transformers) (2024.8.30)\n",
            "Requirement already satisfied: mpmath<1.4,>=1.1.0 in /usr/local/lib/python3.10/dist-packages (from sympy->torch) (1.3.0)\n"
          ]
        }
      ],
      "source": [
        "pip install transformers torch nltk flask"
      ]
    },
    {
      "cell_type": "code",
      "source": [
        "import json\n",
        "from transformers import pipeline\n",
        "\n",
        "def load_data(file_path):\n",
        "    with open(file_path, 'r') as file:\n",
        "        return json.load(file)\n",
        "\n",
        "def initialize_pipelines():\n",
        "    intent_pipeline = pipeline(\"zero-shot-classification\")\n",
        "    entity_pipeline = pipeline(\"ner\", aggregation_strategy=\"simple\")\n",
        "    return intent_pipeline, entity_pipeline\n",
        "\n",
        "def determine_intent(intent_pipeline, user_message, candidate_labels):\n",
        "    result = intent_pipeline(user_message, candidate_labels=candidate_labels)\n",
        "    return result\n",
        "\n",
        "def identify_entities(entity_pipeline, user_message):\n",
        "    extracted_entities = entity_pipeline(user_message)\n",
        "    return extracted_entities\n",
        "\n",
        "def generate_chatbot_response(intent_pipeline, entity_pipeline, data, user_message):\n",
        "    candidate_labels = [entry['intent'] for entry in data]\n",
        "\n",
        "    intent_outcome = determine_intent(intent_pipeline, user_message, candidate_labels)\n",
        "    entities_outcome = identify_entities(entity_pipeline, user_message)\n",
        "\n",
        "    top_intent = intent_outcome['labels'][0]\n",
        "    top_score = intent_outcome['scores'][0]\n",
        "\n",
        "    formatted_entities = [\n",
        "        {\n",
        "            \"word\": entity['word'],\n",
        "            \"score\": entity['score'],\n",
        "            \"start\": entity['start'],\n",
        "            \"end\": entity['end']\n",
        "        } for entity in entities_outcome\n",
        "    ]\n",
        "\n",
        "    response = f\"Intent: {top_intent} (Score: {top_score:.2f})\\nEntities: \"\n",
        "    for entity in formatted_entities:\n",
        "        response += f\"{entity['word']} (Score: {entity['score']:.2f}, Start: {entity['start']}, End: {entity['end']}) \"\n",
        "\n",
        "    return response\n",
        "\n",
        "def collect_rating():\n",
        "    while True:\n",
        "        try:\n",
        "            user_rating = int(input(\"Rate the chatbot response from 1 to 5: \"))\n",
        "            if 1 <= user_rating <= 5:\n",
        "                if user_rating == 1 or user_rating == 2:\n",
        "                    feedback = \"Unsatisfactory rating. Please improve the model.\"\n",
        "                elif user_rating == 3:\n",
        "                    feedback = \"Fair rating. Please explore more models.\"\n",
        "                elif user_rating in (4, 5):\n",
        "                    feedback = \"Satisfactory rating. Keep up the good work!\"\n",
        "\n",
        "                print(f\"\\nRating: {user_rating} - {feedback}\")\n",
        "                break\n",
        "            else:\n",
        "                print(\"Please enter a rating between 1 and 5.\")\n",
        "        except ValueError:\n",
        "            print(\"Invalid input. Please enter a number between 1 and 5.\")\n",
        "\n",
        "def execute_chatbot():\n",
        "    data_file = 'dataset.json'\n",
        "    print(f\"Loading dataset from {data_file}...\")\n",
        "    data = load_data(data_file)\n",
        "\n",
        "    intent_pipeline, entity_pipeline = initialize_pipelines()\n",
        "\n",
        "    user_message = \"Find me a hotel in Paris.\"\n",
        "\n",
        "    response = generate_chatbot_response(intent_pipeline, entity_pipeline, data, user_message)\n",
        "    print(f\"\\nChatbot: \\n{response}\\n\")\n",
        "\n",
        "    collect_rating()\n",
        "\n",
        "if __name__ == \"__main__\":\n",
        "    execute_chatbot()"
      ],
      "metadata": {
        "colab": {
          "base_uri": "https://localhost:8080/"
        },
        "id": "fORmKvbmoXFx",
        "outputId": "30d6fb43-16e5-4bae-d113-38677b939777"
      },
      "execution_count": 45,
      "outputs": [
        {
          "output_type": "stream",
          "name": "stderr",
          "text": [
            "No model was supplied, defaulted to facebook/bart-large-mnli and revision c626438 (https://huggingface.co/facebook/bart-large-mnli).\n",
            "Using a pipeline without specifying a model name and revision in production is not recommended.\n"
          ]
        },
        {
          "output_type": "stream",
          "name": "stdout",
          "text": [
            "Loading dataset from dataset.json...\n"
          ]
        },
        {
          "output_type": "stream",
          "name": "stderr",
          "text": [
            "No model was supplied, defaulted to dbmdz/bert-large-cased-finetuned-conll03-english and revision f2482bf (https://huggingface.co/dbmdz/bert-large-cased-finetuned-conll03-english).\n",
            "Using a pipeline without specifying a model name and revision in production is not recommended.\n",
            "Some weights of the model checkpoint at dbmdz/bert-large-cased-finetuned-conll03-english were not used when initializing BertForTokenClassification: ['bert.pooler.dense.bias', 'bert.pooler.dense.weight']\n",
            "- This IS expected if you are initializing BertForTokenClassification from the checkpoint of a model trained on another task or with another architecture (e.g. initializing a BertForSequenceClassification model from a BertForPreTraining model).\n",
            "- This IS NOT expected if you are initializing BertForTokenClassification from the checkpoint of a model that you expect to be exactly identical (initializing a BertForSequenceClassification model from a BertForSequenceClassification model).\n"
          ]
        },
        {
          "output_type": "stream",
          "name": "stdout",
          "text": [
            "\n",
            "Chatbot: \n",
            "Intent: find_place (Score: 0.08)\n",
            "Entities: Paris (Score: 1.00, Start: 19, End: 24) \n",
            "\n",
            "Rate the chatbot response from 1 to 5: 5\n",
            "\n",
            "Rating: 5 - Satisfactory rating. Keep up the good work!\n"
          ]
        }
      ]
    }
  ]
}